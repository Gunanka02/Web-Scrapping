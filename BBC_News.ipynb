{
 "cells": [
  {
   "cell_type": "code",
   "execution_count": 4,
   "id": "50fe20f6",
   "metadata": {},
   "outputs": [],
   "source": [
    "from bs4 import BeautifulSoup\n",
    "import requests\n",
    "import pandas as pd\n",
    "\n",
    "\n",
    "url = \"https://www.bbc.com/news/world\"\n",
    "response = requests.get(url)\n",
    "soup = BeautifulSoup(response.text, 'html.parser')\n",
    "\n",
    "headlines = [headline.text.strip() for headline in soup.find_all('h2', {'data-testid': 'card-headline'})]\n",
    "categories = [category.text.strip() for category in soup.find_all('span', {'data-testid': 'card-metadata-tag'})]\n",
    "dates_raw = [date.text.strip() for date in soup.find_all('span', {'data-testid': 'card-metadata-lastupdated'})]\n",
    "\n",
    "dates = [convert_to_datetime(date) for date in dates_raw]\n"
   ]
  },
  {
   "cell_type": "code",
   "execution_count": 5,
   "id": "3ada0108",
   "metadata": {},
   "outputs": [],
   "source": [
    "from datetime import datetime, timedelta\n",
    "\n",
    "def convert_to_datetime(relative_time):\n",
    "    if 'mins' in relative_time:\n",
    "        mins = int(relative_time.split()[0])\n",
    "        date_time = datetime.now() - timedelta(minutes=mins)\n",
    "    elif 'hrs' in relative_time:\n",
    "        hours = int(relative_time.split()[0])\n",
    "        date_time = datetime.now() - timedelta(hours=hours)\n",
    "    elif 'days' in relative_time:\n",
    "        days = int(relative_time.split()[0])\n",
    "        date_time = datetime.now() - timedelta(days=days)\n",
    "    else:\n",
    "        # If the date is already in a proper format, just return it\n",
    "        try:\n",
    "            date_time = datetime.strptime(relative_time, \"%Y-%m-%d\")\n",
    "        except ValueError:\n",
    "            return None\n",
    "    return date_time.strftime(\"%Y/%m/%d %H:%M\")"
   ]
  },
  {
   "cell_type": "code",
   "execution_count": 7,
   "id": "4008f33b",
   "metadata": {},
   "outputs": [
    {
     "name": "stdout",
     "output_type": "stream",
     "text": [
      "                                            Headline     Category  \\\n",
      "0  Four killed by tornadoes in Florida, as DeSant...  Middle East   \n",
      "1  Moment police evacuate family after tree strik...       Europe   \n",
      "2  Israeli strike on Gaza school sheltering displ...       Tennis   \n",
      "3    Portugal tries to tempt under-35s with tax cuts  US & Canada   \n",
      "4          Tennis legend Nadal to retire in November  Middle East   \n",
      "\n",
      "      Date and Time  \n",
      "0  2024/10/10 21:12  \n",
      "1  2024/10/10 17:08  \n",
      "2  2024/10/10 20:08  \n",
      "3  2024/10/10 21:20  \n",
      "4  2024/10/10 21:12  \n"
     ]
    }
   ],
   "source": [
    "\n",
    "data = []\n",
    "for i in range(len(headlines)):\n",
    "    data.append({\n",
    "        'Headline': headlines[i] if i < len(headlines) else 'N/A',\n",
    "        'Category': categories[i] if i < len(categories) else 'N/A',\n",
    "        'Date and Time': dates[i] if i < len(dates) and dates[i] else 'N/A'\n",
    "    })\n",
    "\n",
    "df = pd.DataFrame(data)\n",
    "\n",
    "df.to_csv('bbctime.csv', index=False)\n",
    "\n",
    "print(df.head())\n"
   ]
  },
  {
   "cell_type": "code",
   "execution_count": null,
   "id": "acf7c148",
   "metadata": {},
   "outputs": [],
   "source": []
  }
 ],
 "metadata": {
  "kernelspec": {
   "display_name": "Python 3 (ipykernel)",
   "language": "python",
   "name": "python3"
  },
  "language_info": {
   "codemirror_mode": {
    "name": "ipython",
    "version": 3
   },
   "file_extension": ".py",
   "mimetype": "text/x-python",
   "name": "python",
   "nbconvert_exporter": "python",
   "pygments_lexer": "ipython3",
   "version": "3.11.5"
  }
 },
 "nbformat": 4,
 "nbformat_minor": 5
}
